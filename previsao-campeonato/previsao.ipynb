{
 "cells": [
  {
   "cell_type": "code",
   "execution_count": 30,
   "metadata": {},
   "outputs": [
    {
     "ename": "TypeError",
     "evalue": "initial_value must be str or None, not Response",
     "output_type": "error",
     "traceback": [
      "\u001b[1;31m---------------------------------------------------------------------------\u001b[0m",
      "\u001b[1;31mTypeError\u001b[0m                                 Traceback (most recent call last)",
      "\u001b[1;32mc:\\Users\\Noboru Saito\\OneDrive\\Documents\\Programation\\python\\previsao-campeonato\\previsao.ipynb Cell 1\u001b[0m line \u001b[0;36m5\n\u001b[0;32m      <a href='vscode-notebook-cell:/c%3A/Users/Noboru%20Saito/OneDrive/Documents/Programation/python/previsao-campeonato/previsao.ipynb#W4sZmlsZQ%3D%3D?line=1'>2</a>\u001b[0m \u001b[39mimport\u001b[39;00m \u001b[39mrequests\u001b[39;00m\n\u001b[0;32m      <a href='vscode-notebook-cell:/c%3A/Users/Noboru%20Saito/OneDrive/Documents/Programation/python/previsao-campeonato/previsao.ipynb#W4sZmlsZQ%3D%3D?line=2'>3</a>\u001b[0m \u001b[39mfrom\u001b[39;00m \u001b[39mio\u001b[39;00m \u001b[39mimport\u001b[39;00m StringIO\n\u001b[1;32m----> <a href='vscode-notebook-cell:/c%3A/Users/Noboru%20Saito/OneDrive/Documents/Programation/python/previsao-campeonato/previsao.ipynb#W4sZmlsZQ%3D%3D?line=4'>5</a>\u001b[0m requisicao \u001b[39m=\u001b[39m StringIO(requests\u001b[39m.\u001b[39;49mget(\u001b[39m'\u001b[39;49m\u001b[39mhttps://pt.wikipedia.org/wiki/Campeonato_Brasileiro_de_Futebol_de_2023_-_S\u001b[39;49m\u001b[39m%\u001b[39;49m\u001b[39mC3\u001b[39;49m\u001b[39m%\u001b[39;49m\u001b[39mA9rie_A\u001b[39;49m\u001b[39m'\u001b[39;49m))\n\u001b[0;32m      <a href='vscode-notebook-cell:/c%3A/Users/Noboru%20Saito/OneDrive/Documents/Programation/python/previsao-campeonato/previsao.ipynb#W4sZmlsZQ%3D%3D?line=5'>6</a>\u001b[0m \u001b[39mprint\u001b[39m(requisicao\u001b[39m.\u001b[39mtext)\n\u001b[0;32m      <a href='vscode-notebook-cell:/c%3A/Users/Noboru%20Saito/OneDrive/Documents/Programation/python/previsao-campeonato/previsao.ipynb#W4sZmlsZQ%3D%3D?line=7'>8</a>\u001b[0m tabelas \u001b[39m=\u001b[39m pd\u001b[39m.\u001b[39mread_html(requisicao\u001b[39m.\u001b[39mtext)\n",
      "\u001b[1;31mTypeError\u001b[0m: initial_value must be str or None, not Response"
     ]
    }
   ],
   "source": [
    "import pandas as pd\n",
    "import requests\n",
    "\n",
    "requisicao = requests.get('https://pt.wikipedia.org/wiki/Campeonato_Brasileiro_de_Futebol_de_2023_-_S%C3%A9rie_A')\n",
    "print(requisicao.text)\n",
    "\n",
    "tabelas = pd.read_html(requisicao.text)\n"
   ]
  }
 ],
 "metadata": {
  "kernelspec": {
   "display_name": "Python 3",
   "language": "python",
   "name": "python3"
  },
  "language_info": {
   "codemirror_mode": {
    "name": "ipython",
    "version": 3
   },
   "file_extension": ".py",
   "mimetype": "text/x-python",
   "name": "python",
   "nbconvert_exporter": "python",
   "pygments_lexer": "ipython3",
   "version": "3.11.3"
  }
 },
 "nbformat": 4,
 "nbformat_minor": 2
}
